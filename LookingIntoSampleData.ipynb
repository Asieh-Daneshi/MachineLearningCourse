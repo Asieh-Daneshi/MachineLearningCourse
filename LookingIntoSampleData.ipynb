{
 "cells": [
  {
   "cell_type": "markdown",
   "metadata": {},
   "source": [
    "# Downloading Sample data and looking into it\n",
    "<p style=font-size:20px;color:rgba(255,255,255,255);> This is the first session of our machine learning journey!</p>\n",
    "<p style=font-size:14px;color:rgba(255,255,255,255);> Here we download the data and take a look into it!</p>\n",
    "<p style=font-size:20px;color:yellow;> Importing required libraries </p>"
   ]
  },
  {
   "cell_type": "code",
   "execution_count": null,
   "metadata": {},
   "outputs": [],
   "source": [
    "import numpy as np\n",
    "# pip install numpy\n",
    "import pandas as pd\n",
    "# pip install pandas\n",
    "import matplotlib.pyplot as plt \n",
    "# pip install matplotlib"
   ]
  },
  {
   "cell_type": "markdown",
   "metadata": {},
   "source": [
    "###### ======================================================================================================================\n",
    "<p style=font-size:20px;color:yellow;> Download dataset </p>\n",
    "https://archive.ics.uci.edu/dataset/159/magic+gamma+telescope\n"
   ]
  },
  {
   "cell_type": "markdown",
   "metadata": {},
   "source": [
    "<p style=color:yellow;font-size:20xp> Openning the csv file, changing the name of the columns, showing the first five columns </p>"
   ]
  },
  {
   "cell_type": "code",
   "execution_count": null,
   "metadata": {},
   "outputs": [],
   "source": [
    "df = pd.read_csv(\"magic04.data\")      # reading the dataset\n",
    "\n",
    "\n",
    "cols = [\"fLength\", \"fWidth\", \"fSize\", \"fConc\", \"fConc1\", \"fAsym\", \"fM3Long\", \"fM3Trans\", \"fAlpha\", \"fDist\", \"class\"]        # name of the columns from the other file called \"magic04.names\"\n",
    "df = pd.read_csv(\"magic04.data\", names=cols)      # reading the dataset again, but this time we are naming the columns\n",
    "df.head()        # shows the first five rows of df"
   ]
  },
  {
   "cell_type": "markdown",
   "metadata": {},
   "source": [
    "###### ======================================================================================================================\n",
    "<p style=color:yellow;font-size:20xp;>Changing the character labels into numbers, looking at histograms</p>\n",
    "<p style=color:white;font-size:14xp;>In this block, we want to see which feature (label) can separate data classes better. \n",
    "<br>\n",
    "We plot histograms, and the one/ those that look more separable, are better for our classification goal.\n",
    "<br>\n",
    "Based on the plots that come below, we see that it seems 'fAlpha' is the best feature for our purpose!</p>\n"
   ]
  },
  {
   "cell_type": "code",
   "execution_count": null,
   "metadata": {},
   "outputs": [],
   "source": [
    "df[\"class\"].unique()        # shows all the different elements in the column labled \"class\"; exactly like unique in MATLAB\n",
    "df[\"class\"] = (df[\"class\"] == \"g\").astype(int)      # compares the elements in the \"class\" column with \"g\" and returns \"True\" or \"Flase\". Then converts these binaries into integers 1 and 0\n",
    "\n",
    "for label in cols[:-1]:\n",
    "    plt.hist(df[df[\"class\"]==1][label], color='blue', label='gamma', alpha=0.7, density=True)\n",
    "    plt.hist(df[df[\"class\"]==0][label], color='red', label='hadron', alpha=0.7, density=True)\n",
    "    plt.title(label)\n",
    "    plt.ylabel(\"Probability\")\n",
    "    plt.xlabel(label)\n",
    "    plt.legend()\n",
    "    plt.show()"
   ]
  }
 ],
 "metadata": {
  "kernelspec": {
   "display_name": "Python 3",
   "language": "python",
   "name": "python3"
  },
  "language_info": {
   "codemirror_mode": {
    "name": "ipython",
    "version": 3
   },
   "file_extension": ".py",
   "mimetype": "text/x-python",
   "name": "python",
   "nbconvert_exporter": "python",
   "pygments_lexer": "ipython3",
   "version": "3.12.1"
  }
 },
 "nbformat": 4,
 "nbformat_minor": 2
}
